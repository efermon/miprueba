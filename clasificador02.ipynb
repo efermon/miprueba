{
 "cells": [
  {
   "cell_type": "code",
   "execution_count": 2,
   "metadata": {
    "id": "S3iMvsBzI9sY"
   },
   "outputs": [
    {
     "name": "stdout",
     "output_type": "stream",
     "text": [
      "Requirement already satisfied: voila in /mnt/Gdatos/IA/entorno/lib/python3.10/site-packages (0.4.0)\n",
      "Requirement already satisfied: jupyter-core>=4.11.0 in /mnt/Gdatos/IA/entorno/lib/python3.10/site-packages (from voila) (5.1.1)\n",
      "Requirement already satisfied: traitlets<6,>=5.0.3 in /mnt/Gdatos/IA/entorno/lib/python3.10/site-packages (from voila) (5.8.0)\n",
      "Requirement already satisfied: nbclient<0.8,>=0.4.0 in /mnt/Gdatos/IA/entorno/lib/python3.10/site-packages (from voila) (0.7.2)\n",
      "Requirement already satisfied: jupyter-server<2.0.0,>=1.18 in /mnt/Gdatos/IA/entorno/lib/python3.10/site-packages (from voila) (1.23.4)\n",
      "Requirement already satisfied: jupyterlab-server<3,>=2.3.0 in /mnt/Gdatos/IA/entorno/lib/python3.10/site-packages (from voila) (2.17.0)\n",
      "Requirement already satisfied: websockets>=9.0 in /mnt/Gdatos/IA/entorno/lib/python3.10/site-packages (from voila) (10.4)\n",
      "Requirement already satisfied: jupyter-client<=7.4.1,>=6.1.3 in /mnt/Gdatos/IA/entorno/lib/python3.10/site-packages (from voila) (7.4.1)\n",
      "Requirement already satisfied: nbconvert<8,>=6.4.5 in /mnt/Gdatos/IA/entorno/lib/python3.10/site-packages (from voila) (7.2.7)\n",
      "Requirement already satisfied: pyzmq>=23.0 in /mnt/Gdatos/IA/entorno/lib/python3.10/site-packages (from jupyter-client<=7.4.1,>=6.1.3->voila) (24.0.1)\n",
      "Requirement already satisfied: entrypoints in /mnt/Gdatos/IA/entorno/lib/python3.10/site-packages (from jupyter-client<=7.4.1,>=6.1.3->voila) (0.4)\n",
      "Requirement already satisfied: tornado>=6.2 in /mnt/Gdatos/IA/entorno/lib/python3.10/site-packages (from jupyter-client<=7.4.1,>=6.1.3->voila) (6.2)\n",
      "Requirement already satisfied: python-dateutil>=2.8.2 in /mnt/Gdatos/IA/entorno/lib/python3.10/site-packages (from jupyter-client<=7.4.1,>=6.1.3->voila) (2.8.2)\n",
      "Requirement already satisfied: nest-asyncio>=1.5.4 in /mnt/Gdatos/IA/entorno/lib/python3.10/site-packages (from jupyter-client<=7.4.1,>=6.1.3->voila) (1.5.6)\n",
      "Requirement already satisfied: platformdirs>=2.5 in /mnt/Gdatos/IA/entorno/lib/python3.10/site-packages (from jupyter-core>=4.11.0->voila) (2.6.0)\n",
      "Requirement already satisfied: packaging in /mnt/Gdatos/IA/entorno/lib/python3.10/site-packages (from jupyter-server<2.0.0,>=1.18->voila) (21.3)\n",
      "Requirement already satisfied: jinja2 in /mnt/Gdatos/IA/entorno/lib/python3.10/site-packages (from jupyter-server<2.0.0,>=1.18->voila) (3.1.2)\n",
      "Requirement already satisfied: Send2Trash in /mnt/Gdatos/IA/entorno/lib/python3.10/site-packages (from jupyter-server<2.0.0,>=1.18->voila) (1.8.0)\n",
      "Requirement already satisfied: prometheus-client in /mnt/Gdatos/IA/entorno/lib/python3.10/site-packages (from jupyter-server<2.0.0,>=1.18->voila) (0.15.0)\n",
      "Requirement already satisfied: nbformat>=5.2.0 in /mnt/Gdatos/IA/entorno/lib/python3.10/site-packages (from jupyter-server<2.0.0,>=1.18->voila) (5.7.1)\n",
      "Requirement already satisfied: argon2-cffi in /mnt/Gdatos/IA/entorno/lib/python3.10/site-packages (from jupyter-server<2.0.0,>=1.18->voila) (21.3.0)\n",
      "Requirement already satisfied: terminado>=0.8.3 in /mnt/Gdatos/IA/entorno/lib/python3.10/site-packages (from jupyter-server<2.0.0,>=1.18->voila) (0.17.1)\n",
      "Requirement already satisfied: anyio<4,>=3.1.0 in /mnt/Gdatos/IA/entorno/lib/python3.10/site-packages (from jupyter-server<2.0.0,>=1.18->voila) (3.6.2)\n",
      "Requirement already satisfied: websocket-client in /mnt/Gdatos/IA/entorno/lib/python3.10/site-packages (from jupyter-server<2.0.0,>=1.18->voila) (1.4.2)\n",
      "Requirement already satisfied: jsonschema>=4.17.3 in /mnt/Gdatos/IA/entorno/lib/python3.10/site-packages (from jupyterlab-server<3,>=2.3.0->voila) (4.17.3)\n",
      "Requirement already satisfied: json5>=0.9.0 in /mnt/Gdatos/IA/entorno/lib/python3.10/site-packages (from jupyterlab-server<3,>=2.3.0->voila) (0.9.10)\n",
      "Requirement already satisfied: babel>=2.10 in /mnt/Gdatos/IA/entorno/lib/python3.10/site-packages (from jupyterlab-server<3,>=2.3.0->voila) (2.11.0)\n",
      "Requirement already satisfied: requests>=2.28 in /mnt/Gdatos/IA/entorno/lib/python3.10/site-packages (from jupyterlab-server<3,>=2.3.0->voila) (2.28.1)\n",
      "Requirement already satisfied: pandocfilters>=1.4.1 in /mnt/Gdatos/IA/entorno/lib/python3.10/site-packages (from nbconvert<8,>=6.4.5->voila) (1.5.0)\n",
      "Requirement already satisfied: mistune<3,>=2.0.3 in /mnt/Gdatos/IA/entorno/lib/python3.10/site-packages (from nbconvert<8,>=6.4.5->voila) (2.0.4)\n",
      "Requirement already satisfied: defusedxml in /mnt/Gdatos/IA/entorno/lib/python3.10/site-packages (from nbconvert<8,>=6.4.5->voila) (0.7.1)\n",
      "Requirement already satisfied: jupyterlab-pygments in /mnt/Gdatos/IA/entorno/lib/python3.10/site-packages (from nbconvert<8,>=6.4.5->voila) (0.2.2)\n",
      "Requirement already satisfied: markupsafe>=2.0 in /mnt/Gdatos/IA/entorno/lib/python3.10/site-packages (from nbconvert<8,>=6.4.5->voila) (2.1.1)\n",
      "Requirement already satisfied: tinycss2 in /mnt/Gdatos/IA/entorno/lib/python3.10/site-packages (from nbconvert<8,>=6.4.5->voila) (1.2.1)\n",
      "Requirement already satisfied: beautifulsoup4 in /mnt/Gdatos/IA/entorno/lib/python3.10/site-packages (from nbconvert<8,>=6.4.5->voila) (4.11.1)\n",
      "Requirement already satisfied: pygments>=2.4.1 in /mnt/Gdatos/IA/entorno/lib/python3.10/site-packages (from nbconvert<8,>=6.4.5->voila) (2.13.0)\n",
      "Requirement already satisfied: bleach in /mnt/Gdatos/IA/entorno/lib/python3.10/site-packages (from nbconvert<8,>=6.4.5->voila) (5.0.1)\n",
      "Requirement already satisfied: idna>=2.8 in /mnt/Gdatos/IA/entorno/lib/python3.10/site-packages (from anyio<4,>=3.1.0->jupyter-server<2.0.0,>=1.18->voila) (3.4)\n",
      "Requirement already satisfied: sniffio>=1.1 in /mnt/Gdatos/IA/entorno/lib/python3.10/site-packages (from anyio<4,>=3.1.0->jupyter-server<2.0.0,>=1.18->voila) (1.3.0)\n",
      "Requirement already satisfied: pytz>=2015.7 in /mnt/Gdatos/IA/entorno/lib/python3.10/site-packages (from babel>=2.10->jupyterlab-server<3,>=2.3.0->voila) (2022.6)\n",
      "Requirement already satisfied: pyrsistent!=0.17.0,!=0.17.1,!=0.17.2,>=0.14.0 in /mnt/Gdatos/IA/entorno/lib/python3.10/site-packages (from jsonschema>=4.17.3->jupyterlab-server<3,>=2.3.0->voila) (0.19.2)\n",
      "Requirement already satisfied: attrs>=17.4.0 in /mnt/Gdatos/IA/entorno/lib/python3.10/site-packages (from jsonschema>=4.17.3->jupyterlab-server<3,>=2.3.0->voila) (22.2.0)\n",
      "Requirement already satisfied: fastjsonschema in /mnt/Gdatos/IA/entorno/lib/python3.10/site-packages (from nbformat>=5.2.0->jupyter-server<2.0.0,>=1.18->voila) (2.16.2)\n",
      "Requirement already satisfied: pyparsing!=3.0.5,>=2.0.2 in /mnt/Gdatos/IA/entorno/lib/python3.10/site-packages (from packaging->jupyter-server<2.0.0,>=1.18->voila) (3.0.9)\n",
      "Requirement already satisfied: six>=1.5 in /mnt/Gdatos/IA/entorno/lib/python3.10/site-packages (from python-dateutil>=2.8.2->jupyter-client<=7.4.1,>=6.1.3->voila) (1.16.0)\n",
      "Requirement already satisfied: certifi>=2017.4.17 in /mnt/Gdatos/IA/entorno/lib/python3.10/site-packages (from requests>=2.28->jupyterlab-server<3,>=2.3.0->voila) (2022.9.24)\n",
      "Requirement already satisfied: urllib3<1.27,>=1.21.1 in /mnt/Gdatos/IA/entorno/lib/python3.10/site-packages (from requests>=2.28->jupyterlab-server<3,>=2.3.0->voila) (1.26.13)\n",
      "Requirement already satisfied: charset-normalizer<3,>=2 in /mnt/Gdatos/IA/entorno/lib/python3.10/site-packages (from requests>=2.28->jupyterlab-server<3,>=2.3.0->voila) (2.1.1)\n",
      "Requirement already satisfied: ptyprocess in /mnt/Gdatos/IA/entorno/lib/python3.10/site-packages (from terminado>=0.8.3->jupyter-server<2.0.0,>=1.18->voila) (0.7.0)\n",
      "Requirement already satisfied: argon2-cffi-bindings in /mnt/Gdatos/IA/entorno/lib/python3.10/site-packages (from argon2-cffi->jupyter-server<2.0.0,>=1.18->voila) (21.2.0)\n",
      "Requirement already satisfied: soupsieve>1.2 in /mnt/Gdatos/IA/entorno/lib/python3.10/site-packages (from beautifulsoup4->nbconvert<8,>=6.4.5->voila) (2.3.2.post1)\n",
      "Requirement already satisfied: webencodings in /mnt/Gdatos/IA/entorno/lib/python3.10/site-packages (from bleach->nbconvert<8,>=6.4.5->voila) (0.5.1)\n",
      "Requirement already satisfied: cffi>=1.0.1 in /mnt/Gdatos/IA/entorno/lib/python3.10/site-packages (from argon2-cffi-bindings->argon2-cffi->jupyter-server<2.0.0,>=1.18->voila) (1.15.1)\n",
      "Requirement already satisfied: pycparser in /mnt/Gdatos/IA/entorno/lib/python3.10/site-packages (from cffi>=1.0.1->argon2-cffi-bindings->argon2-cffi->jupyter-server<2.0.0,>=1.18->voila) (2.21)\n"
     ]
    },
    {
     "name": "stdout",
     "output_type": "stream",
     "text": [
      "Enabling: voila\n",
      "- Writing config: /mnt/Gdatos/IA/entorno/etc/jupyter\n",
      "    - Validating...\n",
      "      voila 0.4.0 \u001b[32mOK\u001b[0m\n"
     ]
    }
   ],
   "source": [
    "!pip install voila                                                              \n",
    "!jupyter serverextension enable --sys-prefix voila     \n"
   ]
  },
  {
   "cell_type": "code",
   "execution_count": 3,
   "metadata": {
    "id": "JPBx1h81JBUD"
   },
   "outputs": [],
   "source": [
    "from fastai.vision.all import *\n",
    "from fastai.vision.widgets import *\n"
   ]
  },
  {
   "cell_type": "code",
   "execution_count": 4,
   "metadata": {
    "id": "p-73nLIyAYE8"
   },
   "outputs": [],
   "source": [
    "path = Path()\n",
    "learn_inf = load_learner(path/'modelo1.pkl', cpu=True)\n",
    "# learn_inf = load_learner('/content/drive/MyDrive/Colab Notebooks/modelo1.pkl', cpu=True)\n",
    "btn_upload = widgets.FileUpload()\n",
    "out_pl = widgets.Output()\n",
    "lbl_pred = widgets.Label()"
   ]
  },
  {
   "cell_type": "code",
   "execution_count": 5,
   "metadata": {
    "id": "6mc42cQRAmGT"
   },
   "outputs": [],
   "source": [
    "def on_data_change(change):\n",
    "    lbl_pred.value = ''\n",
    "    img = PILImage.create(btn_upload.data[-1])\n",
    "    out_pl.clear_output()\n",
    "    with out_pl: display(img.to_thumb(128,128))\n",
    "    pred,pred_idx,probs = learn_inf.predict(img)\n",
    "    lbl_pred.value = f'Prediction: {pred}; Probability: {probs[pred_idx]:.04f}'"
   ]
  },
  {
   "cell_type": "code",
   "execution_count": 6,
   "metadata": {
    "id": "Yjy0Qa6HA8VZ"
   },
   "outputs": [],
   "source": [
    "\n",
    "btn_upload.observe(on_data_change, names=['data'])\n"
   ]
  },
  {
   "cell_type": "code",
   "execution_count": 7,
   "metadata": {
    "id": "7Nm2MXdFBG_5"
   },
   "outputs": [
    {
     "data": {
      "application/vnd.jupyter.widget-view+json": {
       "model_id": "1ca0b16451474c53a49cd74868305c1b",
       "version_major": 2,
       "version_minor": 0
      },
      "text/plain": [
       "VBox(children=(Label(value='Select your bear!'), FileUpload(value={}, description='Upload'), Output(), Label(v…"
      ]
     },
     "metadata": {},
     "output_type": "display_data"
    }
   ],
   "source": [
    "display(VBox([widgets.Label('Select your bear!'), btn_upload, out_pl, lbl_pred]))"
   ]
  }
 ],
 "metadata": {
  "colab": {
   "authorship_tag": "ABX9TyMyh9B9K3DFDtDm7z0/9OXA",
   "mount_file_id": "1bmdiAlUdznpp1uDQC8tYQjzPnQO_SPqD",
   "provenance": []
  },
  "kernelspec": {
   "display_name": "Python 3 (ipykernel)",
   "language": "python",
   "name": "python3"
  },
  "language_info": {
   "codemirror_mode": {
    "name": "ipython",
    "version": 3
   },
   "file_extension": ".py",
   "mimetype": "text/x-python",
   "name": "python",
   "nbconvert_exporter": "python",
   "pygments_lexer": "ipython3",
   "version": "3.10.6"
  }
 },
 "nbformat": 4,
 "nbformat_minor": 1
}
